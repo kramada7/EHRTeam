{
 "cells": [
  {
   "cell_type": "code",
   "execution_count": 1,
   "metadata": {
    "collapsed": true
   },
   "outputs": [],
   "source": [
    "# Import libraries\n",
    "import numpy as np\n",
    "import pandas as pd\n",
    "import matplotlib.pyplot as plt\n",
    "import psycopg2\n",
    "\n",
    "# below imports are used to print out pretty pandas dataframes\n",
    "from IPython.display import display, HTML\n",
    "\n",
    "%matplotlib inline\n",
    "plt.style.use('ggplot')\n",
    "\n",
    "# information used to create a database connection\n",
    "sqluser = 'postgres'\n",
    "dbname = 'mimic'\n",
    "schema_name = 'mimiciii'\n",
    "pw = 'postgres'\n",
    "\n",
    "# Connect to postgres with a copy of the MIMIC-III database\n",
    "con = psycopg2.connect(dbname=dbname, user=sqluser, password=pw)\n",
    "\n",
    "# the below statement is prepended to queries to ensure they select from the right schema\n",
    "query_schema = 'set search_path to ' + schema_name + ';'"
   ]
  },
  {
   "cell_type": "code",
   "execution_count": 2,
   "metadata": {
    "collapsed": true
   },
   "outputs": [],
   "source": [
    "#get data from table: patients\n",
    "query = query_schema +\"\"\"\n",
    "SELECT subject_id, gender, dob, dod, expire_flag\n",
    "FROM patients\n",
    "\"\"\"\n",
    "patients = pd.read_sql_query(query, con)"
   ]
  },
  {
   "cell_type": "code",
   "execution_count": 3,
   "metadata": {
    "collapsed": true
   },
   "outputs": [],
   "source": [
    "#get data from table: prescriptions\n",
    "query = query_schema +\"\"\"\n",
    "SELECT row_id, subject_id, hadm_id, icustay_id, startdate, enddate, drug_type, drug, drug_name_poe, drug_name_generic, formulary_drug_cd\n",
    "FROM prescriptions\n",
    "\"\"\"\n",
    "prescriptions = pd.read_sql_query(query, con)"
   ]
  },
  {
   "cell_type": "code",
   "execution_count": 4,
   "metadata": {
    "collapsed": true
   },
   "outputs": [],
   "source": [
    "#get data from table: diagnoses_icd\n",
    "query = query_schema +\"\"\"\n",
    "SELECT subject_id, hadm_id, icd9_code\n",
    "FROM diagnoses_icd\n",
    "\"\"\"\n",
    "diagnoses_icd = pd.read_sql_query(query, con)"
   ]
  },
  {
   "cell_type": "code",
   "execution_count": 5,
   "metadata": {
    "collapsed": true
   },
   "outputs": [],
   "source": [
    "#get data from table: d_diagnoses_icd\n",
    "query = query_schema +\"\"\"\n",
    "SELECT short_title, icd9_code, long_title\n",
    "FROM d_icd_diagnoses\n",
    "\"\"\"\n",
    "d_diagnoses_icd = pd.read_sql_query(query, con)"
   ]
  },
  {
   "cell_type": "code",
   "execution_count": 6,
   "metadata": {
    "collapsed": true
   },
   "outputs": [],
   "source": [
    "#get data from table: admissions\n",
    "query = query_schema +\"\"\"\n",
    "SELECT subject_id, hadm_id, diagnosis, dischtime, deathtime, admittime\n",
    "FROM admissions\n",
    "\"\"\"\n",
    "admissions = pd.read_sql_query(query, con)"
   ]
  },
  {
   "cell_type": "code",
   "execution_count": 7,
   "metadata": {
    "collapsed": true
   },
   "outputs": [],
   "source": [
    "#get data from table: drgcodes\n",
    "query = query_schema +\"\"\"\n",
    "SELECT subject_id, hadm_id, drg_code, drg_severity, drg_mortality\n",
    "FROM drgcodes\n",
    "\"\"\"\n",
    "drgcodes = pd.read_sql_query(query, con)"
   ]
  },
  {
   "cell_type": "code",
   "execution_count": 8,
   "metadata": {},
   "outputs": [
    {
     "name": "stdout",
     "output_type": "stream",
     "text": [
      "<class 'pandas.core.frame.DataFrame'>\n",
      "RangeIndex: 58976 entries, 0 to 58975\n",
      "Data columns (total 6 columns):\n",
      "subject_id    58976 non-null int64\n",
      "hadm_id       58976 non-null int64\n",
      "diagnosis     58951 non-null object\n",
      "dischtime     58976 non-null datetime64[ns]\n",
      "deathtime     5854 non-null datetime64[ns]\n",
      "admittime     58976 non-null datetime64[ns]\n",
      "dtypes: datetime64[ns](3), int64(2), object(1)\n",
      "memory usage: 2.7+ MB\n"
     ]
    }
   ],
   "source": [
    "admissions.info()"
   ]
  },
  {
   "cell_type": "markdown",
   "metadata": {},
   "source": [
    "#### Reprocessing dates from random future dates to MIMIC dataframe date range"
   ]
  },
  {
   "cell_type": "code",
   "execution_count": 9,
   "metadata": {
    "collapsed": true
   },
   "outputs": [],
   "source": [
    "#make a copy of admissions\n",
    "admissions2=admissions.copy()"
   ]
  },
  {
   "cell_type": "code",
   "execution_count": 10,
   "metadata": {
    "collapsed": true
   },
   "outputs": [],
   "source": [
    "#group future dates into 2001-2012\n",
    "admissions2['admit_year'] = pd.Series(np.zeros(admissions2.shape[0]))\n",
    "admissions2.loc[admissions2['admittime'].dt.year>2201, 'admit_year'] = int(2012)\n",
    "admissions2.loc[(admissions2['admittime'].dt.year<=2201) & (admissions2['admittime'].dt.year>2192), 'admit_year'] = int(2011)\n",
    "admissions2.loc[(admissions2['admittime'].dt.year<=2192) & (admissions2['admittime'].dt.year>2183), 'admit_year'] = 2010\n",
    "admissions2.loc[(admissions2['admittime'].dt.year<=2183) & (admissions2['admittime'].dt.year>2174), 'admit_year'] = 2009\n",
    "admissions2.loc[(admissions2['admittime'].dt.year<=2174) & (admissions2['admittime'].dt.year>2165), 'admit_year'] = 2008\n",
    "admissions2.loc[(admissions2['admittime'].dt.year<=2165) & (admissions2['admittime'].dt.year>2156), 'admit_year'] = 2007\n",
    "admissions2.loc[(admissions2['admittime'].dt.year<=2156) & (admissions2['admittime'].dt.year>2147), 'admit_year'] = 2006\n",
    "admissions2.loc[(admissions2['admittime'].dt.year<=2147) & (admissions2['admittime'].dt.year>2138), 'admit_year'] = 2005\n",
    "admissions2.loc[(admissions2['admittime'].dt.year<=2138) & (admissions2['admittime'].dt.year>2129), 'admit_year'] = 2004\n",
    "admissions2.loc[(admissions2['admittime'].dt.year<=2129) & (admissions2['admittime'].dt.year>2120), 'admit_year'] = 2003\n",
    "admissions2.loc[(admissions2['admittime'].dt.year<=2120) & (admissions2['admittime'].dt.year>2111), 'admit_year'] = 2002\n",
    "admissions2.loc[admissions2['admittime'].dt.year<=2111, 'admit_year'] = 2001"
   ]
  },
  {
   "cell_type": "code",
   "execution_count": 11,
   "metadata": {},
   "outputs": [
    {
     "data": {
      "text/html": [
       "<div>\n",
       "<style>\n",
       "    .dataframe thead tr:only-child th {\n",
       "        text-align: right;\n",
       "    }\n",
       "\n",
       "    .dataframe thead th {\n",
       "        text-align: left;\n",
       "    }\n",
       "\n",
       "    .dataframe tbody tr th {\n",
       "        vertical-align: top;\n",
       "    }\n",
       "</style>\n",
       "<table border=\"1\" class=\"dataframe\">\n",
       "  <thead>\n",
       "    <tr style=\"text-align: right;\">\n",
       "      <th></th>\n",
       "      <th>subject_id</th>\n",
       "      <th>hadm_id</th>\n",
       "      <th>diagnosis</th>\n",
       "      <th>dischtime</th>\n",
       "      <th>deathtime</th>\n",
       "      <th>admittime</th>\n",
       "      <th>admit_year</th>\n",
       "    </tr>\n",
       "  </thead>\n",
       "  <tbody>\n",
       "    <tr>\n",
       "      <th>0</th>\n",
       "      <td>22</td>\n",
       "      <td>165315</td>\n",
       "      <td>BENZODIAZEPINE OVERDOSE</td>\n",
       "      <td>2196-04-10 15:54:00</td>\n",
       "      <td>NaT</td>\n",
       "      <td>2196-04-09 12:26:00</td>\n",
       "      <td>2011</td>\n",
       "    </tr>\n",
       "    <tr>\n",
       "      <th>1</th>\n",
       "      <td>23</td>\n",
       "      <td>152223</td>\n",
       "      <td>CORONARY ARTERY DISEASE\\CORONARY ARTERY BYPASS...</td>\n",
       "      <td>2153-09-08 19:10:00</td>\n",
       "      <td>NaT</td>\n",
       "      <td>2153-09-03 07:15:00</td>\n",
       "      <td>2006</td>\n",
       "    </tr>\n",
       "    <tr>\n",
       "      <th>2</th>\n",
       "      <td>23</td>\n",
       "      <td>124321</td>\n",
       "      <td>BRAIN MASS</td>\n",
       "      <td>2157-10-25 14:00:00</td>\n",
       "      <td>NaT</td>\n",
       "      <td>2157-10-18 19:34:00</td>\n",
       "      <td>2007</td>\n",
       "    </tr>\n",
       "    <tr>\n",
       "      <th>3</th>\n",
       "      <td>24</td>\n",
       "      <td>161859</td>\n",
       "      <td>INTERIOR MYOCARDIAL INFARCTION</td>\n",
       "      <td>2139-06-09 12:48:00</td>\n",
       "      <td>NaT</td>\n",
       "      <td>2139-06-06 16:14:00</td>\n",
       "      <td>2005</td>\n",
       "    </tr>\n",
       "    <tr>\n",
       "      <th>4</th>\n",
       "      <td>25</td>\n",
       "      <td>129635</td>\n",
       "      <td>ACUTE CORONARY SYNDROME</td>\n",
       "      <td>2160-11-05 14:55:00</td>\n",
       "      <td>NaT</td>\n",
       "      <td>2160-11-02 02:06:00</td>\n",
       "      <td>2007</td>\n",
       "    </tr>\n",
       "  </tbody>\n",
       "</table>\n",
       "</div>"
      ],
      "text/plain": [
       "   subject_id  hadm_id                                          diagnosis  \\\n",
       "0          22   165315                            BENZODIAZEPINE OVERDOSE   \n",
       "1          23   152223  CORONARY ARTERY DISEASE\\CORONARY ARTERY BYPASS...   \n",
       "2          23   124321                                         BRAIN MASS   \n",
       "3          24   161859                     INTERIOR MYOCARDIAL INFARCTION   \n",
       "4          25   129635                            ACUTE CORONARY SYNDROME   \n",
       "\n",
       "            dischtime deathtime           admittime  admit_year  \n",
       "0 2196-04-10 15:54:00       NaT 2196-04-09 12:26:00        2011  \n",
       "1 2153-09-08 19:10:00       NaT 2153-09-03 07:15:00        2006  \n",
       "2 2157-10-25 14:00:00       NaT 2157-10-18 19:34:00        2007  \n",
       "3 2139-06-09 12:48:00       NaT 2139-06-06 16:14:00        2005  \n",
       "4 2160-11-05 14:55:00       NaT 2160-11-02 02:06:00        2007  "
      ]
     },
     "execution_count": 11,
     "metadata": {},
     "output_type": "execute_result"
    }
   ],
   "source": [
    "#convert new variable to an integer\n",
    "admissions2['admit_year'] = admissions2['admit_year'].astype('int')\n",
    "admissions2.head()"
   ]
  },
  {
   "cell_type": "code",
   "execution_count": 12,
   "metadata": {
    "collapsed": true
   },
   "outputs": [],
   "source": [
    "#extract month and date\n",
    "admissions2['admit_month']=admissions2['admittime'].dt.month\n",
    "admissions2['admit_day']=admissions2['admittime'].dt.day\n",
    "\n",
    "#convert all leap year days to 2004 to avoid conflict\n",
    "admissions2.loc[(admissions2['admit_day']==29) & (admissions2['admit_month']==2), 'admit_year'] = 2004"
   ]
  },
  {
   "cell_type": "code",
   "execution_count": 13,
   "metadata": {},
   "outputs": [
    {
     "data": {
      "text/html": [
       "<div>\n",
       "<style>\n",
       "    .dataframe thead tr:only-child th {\n",
       "        text-align: right;\n",
       "    }\n",
       "\n",
       "    .dataframe thead th {\n",
       "        text-align: left;\n",
       "    }\n",
       "\n",
       "    .dataframe tbody tr th {\n",
       "        vertical-align: top;\n",
       "    }\n",
       "</style>\n",
       "<table border=\"1\" class=\"dataframe\">\n",
       "  <thead>\n",
       "    <tr style=\"text-align: right;\">\n",
       "      <th></th>\n",
       "      <th>subject_id</th>\n",
       "      <th>hadm_id</th>\n",
       "      <th>diagnosis</th>\n",
       "      <th>dischtime</th>\n",
       "      <th>deathtime</th>\n",
       "      <th>admittime</th>\n",
       "      <th>admit_year</th>\n",
       "      <th>admit_month</th>\n",
       "      <th>admit_day</th>\n",
       "      <th>admit_new</th>\n",
       "    </tr>\n",
       "  </thead>\n",
       "  <tbody>\n",
       "    <tr>\n",
       "      <th>0</th>\n",
       "      <td>22</td>\n",
       "      <td>165315</td>\n",
       "      <td>BENZODIAZEPINE OVERDOSE</td>\n",
       "      <td>2196-04-10 15:54:00</td>\n",
       "      <td>NaT</td>\n",
       "      <td>2196-04-09 12:26:00</td>\n",
       "      <td>2011</td>\n",
       "      <td>4</td>\n",
       "      <td>9</td>\n",
       "      <td>2011-04-09</td>\n",
       "    </tr>\n",
       "    <tr>\n",
       "      <th>1</th>\n",
       "      <td>23</td>\n",
       "      <td>152223</td>\n",
       "      <td>CORONARY ARTERY DISEASE\\CORONARY ARTERY BYPASS...</td>\n",
       "      <td>2153-09-08 19:10:00</td>\n",
       "      <td>NaT</td>\n",
       "      <td>2153-09-03 07:15:00</td>\n",
       "      <td>2006</td>\n",
       "      <td>9</td>\n",
       "      <td>3</td>\n",
       "      <td>2006-09-03</td>\n",
       "    </tr>\n",
       "    <tr>\n",
       "      <th>2</th>\n",
       "      <td>23</td>\n",
       "      <td>124321</td>\n",
       "      <td>BRAIN MASS</td>\n",
       "      <td>2157-10-25 14:00:00</td>\n",
       "      <td>NaT</td>\n",
       "      <td>2157-10-18 19:34:00</td>\n",
       "      <td>2007</td>\n",
       "      <td>10</td>\n",
       "      <td>18</td>\n",
       "      <td>2007-10-18</td>\n",
       "    </tr>\n",
       "    <tr>\n",
       "      <th>3</th>\n",
       "      <td>24</td>\n",
       "      <td>161859</td>\n",
       "      <td>INTERIOR MYOCARDIAL INFARCTION</td>\n",
       "      <td>2139-06-09 12:48:00</td>\n",
       "      <td>NaT</td>\n",
       "      <td>2139-06-06 16:14:00</td>\n",
       "      <td>2005</td>\n",
       "      <td>6</td>\n",
       "      <td>6</td>\n",
       "      <td>2005-06-06</td>\n",
       "    </tr>\n",
       "    <tr>\n",
       "      <th>4</th>\n",
       "      <td>25</td>\n",
       "      <td>129635</td>\n",
       "      <td>ACUTE CORONARY SYNDROME</td>\n",
       "      <td>2160-11-05 14:55:00</td>\n",
       "      <td>NaT</td>\n",
       "      <td>2160-11-02 02:06:00</td>\n",
       "      <td>2007</td>\n",
       "      <td>11</td>\n",
       "      <td>2</td>\n",
       "      <td>2007-11-02</td>\n",
       "    </tr>\n",
       "  </tbody>\n",
       "</table>\n",
       "</div>"
      ],
      "text/plain": [
       "   subject_id  hadm_id                                          diagnosis  \\\n",
       "0          22   165315                            BENZODIAZEPINE OVERDOSE   \n",
       "1          23   152223  CORONARY ARTERY DISEASE\\CORONARY ARTERY BYPASS...   \n",
       "2          23   124321                                         BRAIN MASS   \n",
       "3          24   161859                     INTERIOR MYOCARDIAL INFARCTION   \n",
       "4          25   129635                            ACUTE CORONARY SYNDROME   \n",
       "\n",
       "            dischtime deathtime           admittime admit_year admit_month  \\\n",
       "0 2196-04-10 15:54:00       NaT 2196-04-09 12:26:00       2011           4   \n",
       "1 2153-09-08 19:10:00       NaT 2153-09-03 07:15:00       2006           9   \n",
       "2 2157-10-25 14:00:00       NaT 2157-10-18 19:34:00       2007          10   \n",
       "3 2139-06-09 12:48:00       NaT 2139-06-06 16:14:00       2005           6   \n",
       "4 2160-11-05 14:55:00       NaT 2160-11-02 02:06:00       2007          11   \n",
       "\n",
       "  admit_day  admit_new  \n",
       "0         9 2011-04-09  \n",
       "1         3 2006-09-03  \n",
       "2        18 2007-10-18  \n",
       "3         6 2005-06-06  \n",
       "4         2 2007-11-02  "
      ]
     },
     "execution_count": 13,
     "metadata": {},
     "output_type": "execute_result"
    }
   ],
   "source": [
    "#convert to strings\n",
    "admissions2['admit_year'] = admissions2['admit_year'].astype('str')\n",
    "admissions2['admit_month'] = admissions2['admit_month'].astype('str')\n",
    "admissions2['admit_day'] = admissions2['admit_day'].astype('str')\n",
    "\n",
    "#merge new variables\n",
    "admissions2['admit_new']=admissions2[['admit_year', 'admit_month', 'admit_day']].apply(lambda x: '-'.join(x), axis=1)\n",
    "\n",
    "#convert string to date\n",
    "admissions2['admit_new'] = pd.to_datetime(admissions2['admit_new'])\n",
    "\n",
    "#print dataset head\n",
    "admissions2.head()"
   ]
  },
  {
   "cell_type": "code",
   "execution_count": 14,
   "metadata": {},
   "outputs": [
    {
     "name": "stdout",
     "output_type": "stream",
     "text": [
      "<class 'pandas.core.frame.DataFrame'>\n",
      "RangeIndex: 58976 entries, 0 to 58975\n",
      "Data columns (total 7 columns):\n",
      "subject_id    58976 non-null int64\n",
      "hadm_id       58976 non-null int64\n",
      "diagnosis     58951 non-null object\n",
      "dischtime     58976 non-null datetime64[ns]\n",
      "deathtime     5854 non-null datetime64[ns]\n",
      "admittime     58976 non-null datetime64[ns]\n",
      "admit_new     58976 non-null datetime64[ns]\n",
      "dtypes: datetime64[ns](4), int64(2), object(1)\n",
      "memory usage: 3.1+ MB\n"
     ]
    }
   ],
   "source": [
    "#remove all new variables except converted date\n",
    "cols=[6,7,8]\n",
    "admissions2.drop(admissions2.columns[cols], axis=1,inplace=True)\n",
    "\n",
    "#print dataframe info\n",
    "admissions2.info()"
   ]
  },
  {
   "cell_type": "code",
   "execution_count": 15,
   "metadata": {
    "collapsed": true
   },
   "outputs": [],
   "source": [
    "#repeating above process for discharge date\n",
    "admissions2['disch_year'] = pd.Series(np.zeros(admissions2.shape[0]))\n",
    "admissions2.loc[admissions2['dischtime'].dt.year>2201, 'disch_year'] = 2012\n",
    "admissions2.loc[(admissions2['dischtime'].dt.year<=2201) & (admissions2['dischtime'].dt.year>2192), 'disch_year'] = 2011\n",
    "admissions2.loc[(admissions2['dischtime'].dt.year<=2192) & (admissions2['dischtime'].dt.year>2183), 'disch_year'] = 2010\n",
    "admissions2.loc[(admissions2['dischtime'].dt.year<=2183) & (admissions2['dischtime'].dt.year>2174), 'disch_year'] = 2009\n",
    "admissions2.loc[(admissions2['dischtime'].dt.year<=2174) & (admissions2['dischtime'].dt.year>2165), 'disch_year'] = 2008\n",
    "admissions2.loc[(admissions2['dischtime'].dt.year<=2165) & (admissions2['dischtime'].dt.year>2156), 'disch_year'] = 2007\n",
    "admissions2.loc[(admissions2['dischtime'].dt.year<=2156) & (admissions2['dischtime'].dt.year>2147), 'disch_year'] = 2006\n",
    "admissions2.loc[(admissions2['dischtime'].dt.year<=2147) & (admissions2['dischtime'].dt.year>2138), 'disch_year'] = 2005\n",
    "admissions2.loc[(admissions2['dischtime'].dt.year<=2138) & (admissions2['dischtime'].dt.year>2129), 'disch_year'] = 2004\n",
    "admissions2.loc[(admissions2['dischtime'].dt.year<=2129) & (admissions2['dischtime'].dt.year>2120), 'disch_year'] = 2003\n",
    "admissions2.loc[(admissions2['dischtime'].dt.year<=2120) & (admissions2['dischtime'].dt.year>2111), 'disch_year'] = 2002\n",
    "admissions2.loc[admissions2['dischtime'].dt.year<=2111, 'disch_year'] = 2001"
   ]
  },
  {
   "cell_type": "code",
   "execution_count": 16,
   "metadata": {},
   "outputs": [
    {
     "data": {
      "text/html": [
       "<div>\n",
       "<style>\n",
       "    .dataframe thead tr:only-child th {\n",
       "        text-align: right;\n",
       "    }\n",
       "\n",
       "    .dataframe thead th {\n",
       "        text-align: left;\n",
       "    }\n",
       "\n",
       "    .dataframe tbody tr th {\n",
       "        vertical-align: top;\n",
       "    }\n",
       "</style>\n",
       "<table border=\"1\" class=\"dataframe\">\n",
       "  <thead>\n",
       "    <tr style=\"text-align: right;\">\n",
       "      <th></th>\n",
       "      <th>subject_id</th>\n",
       "      <th>hadm_id</th>\n",
       "      <th>diagnosis</th>\n",
       "      <th>dischtime</th>\n",
       "      <th>deathtime</th>\n",
       "      <th>admittime</th>\n",
       "      <th>admit_new</th>\n",
       "      <th>disch_year</th>\n",
       "    </tr>\n",
       "  </thead>\n",
       "  <tbody>\n",
       "    <tr>\n",
       "      <th>0</th>\n",
       "      <td>22</td>\n",
       "      <td>165315</td>\n",
       "      <td>BENZODIAZEPINE OVERDOSE</td>\n",
       "      <td>2196-04-10 15:54:00</td>\n",
       "      <td>NaT</td>\n",
       "      <td>2196-04-09 12:26:00</td>\n",
       "      <td>2011-04-09</td>\n",
       "      <td>2011</td>\n",
       "    </tr>\n",
       "    <tr>\n",
       "      <th>1</th>\n",
       "      <td>23</td>\n",
       "      <td>152223</td>\n",
       "      <td>CORONARY ARTERY DISEASE\\CORONARY ARTERY BYPASS...</td>\n",
       "      <td>2153-09-08 19:10:00</td>\n",
       "      <td>NaT</td>\n",
       "      <td>2153-09-03 07:15:00</td>\n",
       "      <td>2006-09-03</td>\n",
       "      <td>2006</td>\n",
       "    </tr>\n",
       "    <tr>\n",
       "      <th>2</th>\n",
       "      <td>23</td>\n",
       "      <td>124321</td>\n",
       "      <td>BRAIN MASS</td>\n",
       "      <td>2157-10-25 14:00:00</td>\n",
       "      <td>NaT</td>\n",
       "      <td>2157-10-18 19:34:00</td>\n",
       "      <td>2007-10-18</td>\n",
       "      <td>2007</td>\n",
       "    </tr>\n",
       "    <tr>\n",
       "      <th>3</th>\n",
       "      <td>24</td>\n",
       "      <td>161859</td>\n",
       "      <td>INTERIOR MYOCARDIAL INFARCTION</td>\n",
       "      <td>2139-06-09 12:48:00</td>\n",
       "      <td>NaT</td>\n",
       "      <td>2139-06-06 16:14:00</td>\n",
       "      <td>2005-06-06</td>\n",
       "      <td>2005</td>\n",
       "    </tr>\n",
       "    <tr>\n",
       "      <th>4</th>\n",
       "      <td>25</td>\n",
       "      <td>129635</td>\n",
       "      <td>ACUTE CORONARY SYNDROME</td>\n",
       "      <td>2160-11-05 14:55:00</td>\n",
       "      <td>NaT</td>\n",
       "      <td>2160-11-02 02:06:00</td>\n",
       "      <td>2007-11-02</td>\n",
       "      <td>2007</td>\n",
       "    </tr>\n",
       "  </tbody>\n",
       "</table>\n",
       "</div>"
      ],
      "text/plain": [
       "   subject_id  hadm_id                                          diagnosis  \\\n",
       "0          22   165315                            BENZODIAZEPINE OVERDOSE   \n",
       "1          23   152223  CORONARY ARTERY DISEASE\\CORONARY ARTERY BYPASS...   \n",
       "2          23   124321                                         BRAIN MASS   \n",
       "3          24   161859                     INTERIOR MYOCARDIAL INFARCTION   \n",
       "4          25   129635                            ACUTE CORONARY SYNDROME   \n",
       "\n",
       "            dischtime deathtime           admittime  admit_new  disch_year  \n",
       "0 2196-04-10 15:54:00       NaT 2196-04-09 12:26:00 2011-04-09        2011  \n",
       "1 2153-09-08 19:10:00       NaT 2153-09-03 07:15:00 2006-09-03        2006  \n",
       "2 2157-10-25 14:00:00       NaT 2157-10-18 19:34:00 2007-10-18        2007  \n",
       "3 2139-06-09 12:48:00       NaT 2139-06-06 16:14:00 2005-06-06        2005  \n",
       "4 2160-11-05 14:55:00       NaT 2160-11-02 02:06:00 2007-11-02        2007  "
      ]
     },
     "execution_count": 16,
     "metadata": {},
     "output_type": "execute_result"
    }
   ],
   "source": [
    "admissions2['disch_year'] = admissions2['disch_year'].astype('int')\n",
    "admissions2.head()"
   ]
  },
  {
   "cell_type": "code",
   "execution_count": 17,
   "metadata": {
    "collapsed": true
   },
   "outputs": [],
   "source": [
    "admissions2['disch_month']=admissions2['dischtime'].dt.month\n",
    "admissions2['disch_day']=admissions2['dischtime'].dt.day\n",
    "\n",
    "admissions2.loc[(admissions2['disch_day']==29) & (admissions2['disch_month']==2), 'disch_year'] = 2004"
   ]
  },
  {
   "cell_type": "code",
   "execution_count": 18,
   "metadata": {},
   "outputs": [
    {
     "data": {
      "text/html": [
       "<div>\n",
       "<style>\n",
       "    .dataframe thead tr:only-child th {\n",
       "        text-align: right;\n",
       "    }\n",
       "\n",
       "    .dataframe thead th {\n",
       "        text-align: left;\n",
       "    }\n",
       "\n",
       "    .dataframe tbody tr th {\n",
       "        vertical-align: top;\n",
       "    }\n",
       "</style>\n",
       "<table border=\"1\" class=\"dataframe\">\n",
       "  <thead>\n",
       "    <tr style=\"text-align: right;\">\n",
       "      <th></th>\n",
       "      <th>subject_id</th>\n",
       "      <th>hadm_id</th>\n",
       "      <th>diagnosis</th>\n",
       "      <th>dischtime</th>\n",
       "      <th>deathtime</th>\n",
       "      <th>admittime</th>\n",
       "      <th>admit_new</th>\n",
       "      <th>disch_year</th>\n",
       "      <th>disch_month</th>\n",
       "      <th>disch_day</th>\n",
       "      <th>disch_new</th>\n",
       "    </tr>\n",
       "  </thead>\n",
       "  <tbody>\n",
       "    <tr>\n",
       "      <th>0</th>\n",
       "      <td>22</td>\n",
       "      <td>165315</td>\n",
       "      <td>BENZODIAZEPINE OVERDOSE</td>\n",
       "      <td>2196-04-10 15:54:00</td>\n",
       "      <td>NaT</td>\n",
       "      <td>2196-04-09 12:26:00</td>\n",
       "      <td>2011-04-09</td>\n",
       "      <td>2011</td>\n",
       "      <td>4</td>\n",
       "      <td>10</td>\n",
       "      <td>2011-04-10</td>\n",
       "    </tr>\n",
       "    <tr>\n",
       "      <th>1</th>\n",
       "      <td>23</td>\n",
       "      <td>152223</td>\n",
       "      <td>CORONARY ARTERY DISEASE\\CORONARY ARTERY BYPASS...</td>\n",
       "      <td>2153-09-08 19:10:00</td>\n",
       "      <td>NaT</td>\n",
       "      <td>2153-09-03 07:15:00</td>\n",
       "      <td>2006-09-03</td>\n",
       "      <td>2006</td>\n",
       "      <td>9</td>\n",
       "      <td>8</td>\n",
       "      <td>2006-09-08</td>\n",
       "    </tr>\n",
       "    <tr>\n",
       "      <th>2</th>\n",
       "      <td>23</td>\n",
       "      <td>124321</td>\n",
       "      <td>BRAIN MASS</td>\n",
       "      <td>2157-10-25 14:00:00</td>\n",
       "      <td>NaT</td>\n",
       "      <td>2157-10-18 19:34:00</td>\n",
       "      <td>2007-10-18</td>\n",
       "      <td>2007</td>\n",
       "      <td>10</td>\n",
       "      <td>25</td>\n",
       "      <td>2007-10-25</td>\n",
       "    </tr>\n",
       "    <tr>\n",
       "      <th>3</th>\n",
       "      <td>24</td>\n",
       "      <td>161859</td>\n",
       "      <td>INTERIOR MYOCARDIAL INFARCTION</td>\n",
       "      <td>2139-06-09 12:48:00</td>\n",
       "      <td>NaT</td>\n",
       "      <td>2139-06-06 16:14:00</td>\n",
       "      <td>2005-06-06</td>\n",
       "      <td>2005</td>\n",
       "      <td>6</td>\n",
       "      <td>9</td>\n",
       "      <td>2005-06-09</td>\n",
       "    </tr>\n",
       "    <tr>\n",
       "      <th>4</th>\n",
       "      <td>25</td>\n",
       "      <td>129635</td>\n",
       "      <td>ACUTE CORONARY SYNDROME</td>\n",
       "      <td>2160-11-05 14:55:00</td>\n",
       "      <td>NaT</td>\n",
       "      <td>2160-11-02 02:06:00</td>\n",
       "      <td>2007-11-02</td>\n",
       "      <td>2007</td>\n",
       "      <td>11</td>\n",
       "      <td>5</td>\n",
       "      <td>2007-11-05</td>\n",
       "    </tr>\n",
       "  </tbody>\n",
       "</table>\n",
       "</div>"
      ],
      "text/plain": [
       "   subject_id  hadm_id                                          diagnosis  \\\n",
       "0          22   165315                            BENZODIAZEPINE OVERDOSE   \n",
       "1          23   152223  CORONARY ARTERY DISEASE\\CORONARY ARTERY BYPASS...   \n",
       "2          23   124321                                         BRAIN MASS   \n",
       "3          24   161859                     INTERIOR MYOCARDIAL INFARCTION   \n",
       "4          25   129635                            ACUTE CORONARY SYNDROME   \n",
       "\n",
       "            dischtime deathtime           admittime  admit_new disch_year  \\\n",
       "0 2196-04-10 15:54:00       NaT 2196-04-09 12:26:00 2011-04-09       2011   \n",
       "1 2153-09-08 19:10:00       NaT 2153-09-03 07:15:00 2006-09-03       2006   \n",
       "2 2157-10-25 14:00:00       NaT 2157-10-18 19:34:00 2007-10-18       2007   \n",
       "3 2139-06-09 12:48:00       NaT 2139-06-06 16:14:00 2005-06-06       2005   \n",
       "4 2160-11-05 14:55:00       NaT 2160-11-02 02:06:00 2007-11-02       2007   \n",
       "\n",
       "  disch_month disch_day  disch_new  \n",
       "0           4        10 2011-04-10  \n",
       "1           9         8 2006-09-08  \n",
       "2          10        25 2007-10-25  \n",
       "3           6         9 2005-06-09  \n",
       "4          11         5 2007-11-05  "
      ]
     },
     "execution_count": 18,
     "metadata": {},
     "output_type": "execute_result"
    }
   ],
   "source": [
    "admissions2['disch_year'] = admissions2['disch_year'].astype('str')\n",
    "admissions2['disch_month'] = admissions2['disch_month'].astype('str')\n",
    "admissions2['disch_day'] = admissions2['disch_day'].astype('str')\n",
    "\n",
    "admissions2['disch_new']=admissions2[['disch_year', 'disch_month', 'disch_day']].apply(lambda x: '-'.join(x), axis=1)\n",
    "\n",
    "admissions2['disch_new'] = pd.to_datetime(admissions2['disch_new'])\n",
    "\n",
    "admissions2.head()"
   ]
  },
  {
   "cell_type": "code",
   "execution_count": 19,
   "metadata": {
    "scrolled": true
   },
   "outputs": [
    {
     "name": "stdout",
     "output_type": "stream",
     "text": [
      "<class 'pandas.core.frame.DataFrame'>\n",
      "RangeIndex: 58976 entries, 0 to 58975\n",
      "Data columns (total 8 columns):\n",
      "subject_id    58976 non-null int64\n",
      "hadm_id       58976 non-null int64\n",
      "diagnosis     58951 non-null object\n",
      "dischtime     58976 non-null datetime64[ns]\n",
      "deathtime     5854 non-null datetime64[ns]\n",
      "admittime     58976 non-null datetime64[ns]\n",
      "admit_new     58976 non-null datetime64[ns]\n",
      "disch_new     58976 non-null datetime64[ns]\n",
      "dtypes: datetime64[ns](5), int64(2), object(1)\n",
      "memory usage: 3.6+ MB\n"
     ]
    }
   ],
   "source": [
    "cols=[7,8,9]\n",
    "admissions2.drop(admissions2.columns[cols], axis=1,inplace=True)\n",
    "\n",
    "admissions2.info()"
   ]
  },
  {
   "cell_type": "markdown",
   "metadata": {},
   "source": [
    "### Merge imported datasets"
   ]
  },
  {
   "cell_type": "code",
   "execution_count": 20,
   "metadata": {
    "collapsed": true
   },
   "outputs": [],
   "source": [
    "df_merge1 = pd.merge(patients, diagnoses_icd, how='inner', left_on='subject_id', right_on='subject_id')"
   ]
  },
  {
   "cell_type": "code",
   "execution_count": 21,
   "metadata": {
    "collapsed": true
   },
   "outputs": [],
   "source": [
    "df_merge2 = pd.merge(df_merge1, d_diagnoses_icd, how='inner', left_on='icd9_code', right_on='icd9_code')"
   ]
  },
  {
   "cell_type": "code",
   "execution_count": 22,
   "metadata": {
    "collapsed": true
   },
   "outputs": [],
   "source": [
    "df_merge3 = pd.merge(df_merge2, admissions2, how='inner', left_on=['hadm_id', 'subject_id'], right_on=['hadm_id', 'subject_id'])"
   ]
  },
  {
   "cell_type": "code",
   "execution_count": 23,
   "metadata": {
    "collapsed": true
   },
   "outputs": [],
   "source": [
    "df_merge4 = pd.merge(df_merge3, drgcodes, how='inner', left_on=['hadm_id', 'subject_id'], right_on=['hadm_id', 'subject_id'])"
   ]
  },
  {
   "cell_type": "code",
   "execution_count": 24,
   "metadata": {
    "collapsed": true
   },
   "outputs": [],
   "source": [
    "#trying to save memory\n",
    "del([diagnoses_icd, d_diagnoses_icd, admissions, admissions2, drgcodes, df_merge1, df_merge2, df_merge3]) "
   ]
  },
  {
   "cell_type": "code",
   "execution_count": 25,
   "metadata": {
    "collapsed": true
   },
   "outputs": [],
   "source": [
    "#export datasets\n",
    "df_merge4.to_csv(\"C:/Users/Maggie/OneDrive/UW-BHI/2018Fall/CSE583/Project/mimic_merge4.csv\")\n",
    "prescriptions.to_csv(\"C:/Users/Maggie/OneDrive/UW-BHI/2018Fall/CSE583/Project/mimic_prescriptions.csv\")"
   ]
  }
 ],
 "metadata": {
  "kernelspec": {
   "display_name": "Python 3",
   "language": "python",
   "name": "python3"
  },
  "language_info": {
   "codemirror_mode": {
    "name": "ipython",
    "version": 3
   },
   "file_extension": ".py",
   "mimetype": "text/x-python",
   "name": "python",
   "nbconvert_exporter": "python",
   "pygments_lexer": "ipython3",
   "version": "3.6.3"
  }
 },
 "nbformat": 4,
 "nbformat_minor": 2
}
